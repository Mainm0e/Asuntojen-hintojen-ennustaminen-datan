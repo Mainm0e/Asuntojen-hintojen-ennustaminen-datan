{
 "cells": [
  {
   "cell_type": "markdown",
   "metadata": {},
   "source": [
    "# Seminaarityö: Datan hyödyntäminen asiantuntijatyössä  \n",
    "*Adithep Tamwisai* \n"
   ]
  },
  {
   "cell_type": "markdown",
   "metadata": {},
   "source": [
    "### Asuntojen hintojen ennustaminen datan avulla kiinteistöalalla\n",
    "\n",
    "#### 1. Johdanto\n",
    "Asuntojen hintojen ennustaminen on tärkeä työkalu kiinteistöalalla, jossa markkinatrendit ja oikea hinnoittelu voivat vaikuttaa merkittävästi myynnin onnistumiseen ja sijoitusten tuottoon. Tässä projektissa tavoitteena on kehittää datan avulla ennustemalli, joka auttaa arvioimaan asuntojen hintoja käyttäen erilaisia kiinteistön ominaisuuksia, kuten huonelukua, pinta-alaa ja rakennusvuotta. Tämä työ toteutettiin kurssin \"Datan hyödyntäminen asiantuntijatyössä\" harjoitustyönä hyödyntäen Kaggle-palvelusta saatua asuntojen hintadatasettiä.\n",
    "\n",
    "#### 2. Yrityksen konteksti ja kontekstin kuvaus\n",
    "Kuvitteellinen kiinteistöalan yritys \"KiinteistöData Oy\" on erikoistunut tarjoamaan markkina-analyysipalveluita kiinteistönvälittäjille, sijoittajille ja asunnonostajille. Yrityksen toiminta perustuu datalähtöiseen päätöksentekoon, joka auttaa asiakkaita ymmärtämään markkinoiden kehitystä ja tekemään perusteltuja päätöksiä kiinteistösijoittamisen ja myynnin suhteen.\n",
    "\n",
    "##### 2.1 Yrityksen perustiedot\n",
    "KiinteistöData Oy toimii kansallisella tasolla tarjoten palveluita kiinteistömarkkinoiden analysointiin ja markkinatrendien seurantaan. Yrityksen palveluihin kuuluu myös datan visualisointi ja raportointi asiakkaille.\n",
    "\n",
    "##### 2.2 Yrityksen keskeiset arvot ja tavoitteet\n",
    "Yrityksen keskeisiä arvoja ovat läpinäkyvyys, asiakaskeskeisyys ja luotettavuus. Yrityksen tavoitteena on tuottaa tarkkaa ja ajantasaista tietoa kiinteistömarkkinoista, joka tukee asiakkaiden taloudellisia päätöksiä.\n",
    "\n",
    "##### 2.3 Yrityksen markkinatilanne\n",
    "Kiinteistömarkkinoilla tapahtuu jatkuvasti muutoksia, jotka ovat seurausta kysynnän ja tarjonnan vaihteluista sekä talouden ja yhteiskunnan muutoksista. Markkinoiden analysointi ja ennustaminen on avainasemassa erityisesti asuntomarkkinoilla, jossa hintakehitys vaikuttaa suoraan kuluttajien päätöksentekoon.\n",
    "\n",
    "##### 2.4 Yrityksen asiakaskunta\n",
    "KiinteistöData Oy:n asiakaskunta koostuu kiinteistönvälitysliikkeistä, asunnonostajista ja kiinteistösijoittajista, jotka hyötyvät ajantasaisesta ja tarkasta markkinainformaatiosta päätöksenteon tukena.\n",
    "\n",
    "##### 2.5 Yrityksen dataetiikka ja tietoturva\n",
    "Yritys korostaa tietosuojaa ja dataetiikkaa, mikä tarkoittaa asiakkaiden yksityisyyden suojelemista ja datan käyttöä vain sovittuihin tarkoituksiin. Datan anonymisointi ja tietoturvatoimenpiteet ovat osa KiinteistöData Oy:n toimintatapoja.\n",
    "\n",
    "#### 3. Yrityksen strategiat dataan liittyen\n",
    "\n",
    "##### 3.1 Yrityksen merkittävimmät datan lähteet\n",
    "Yrityksen data kerätään eri lähteistä, kuten kiinteistöjen myynti- ja vuokraushistoriasta, julkisista rekistereistä ja markkinatutkimuksista. Keskeisin datalähde ennustemallin kehittämisessä on historiallinen asuntokauppadata.\n",
    "\n",
    "##### 3.2 Yrityksen sidosryhmät datan käytön kannalta\n",
    "KiinteistöData Oy:n sidosryhmiä ovat kiinteistönvälittäjät, sijoittajat, asunnonostajat ja -myyjät, jotka hyötyvät datasta markkinahintojen tarkassa ennustamisessa ja trendien ymmärtämisessä.\n",
    "\n",
    "##### 3.3 Yrityksen liiketoiminta-alueet ja mahdollisuudet\n",
    "Yrityksen toiminta kattaa markkinaraporttien tuottamisen, hinnan ennustemallien tarjoamisen ja asiakaskohtaiset datapalvelut. Markkinoiden ennustemallit voivat tarjota arvokkaita liiketoimintamahdollisuuksia, kuten tietopohjaisia kiinteistöarviointeja.\n",
    "\n",
    "##### 3.4 Yrityksen data ja keskeiset prosessit\n",
    "Yrityksen dataan liittyvät prosessit sisältävät datan keräämisen, puhdistamisen, analysoinnin ja visualisoinnin. KiinteistöData Oy:n kehittämät ennustemallit auttavat hinnoittelun tarkentamisessa ja markkinatrendien tunnistamisessa.\n",
    "\n",
    "#### 4. Oma rooli yrityksessä dataan liittyen\n",
    "\n",
    "##### 4.1 Omaan rooliin liittyvät datan lähteet\n",
    "Omassa roolissani työskentelen historiallisten hintatietojen ja asuntojen ominaisuustietojen parissa. Data on peräisin Kaggle-datasetistä, jossa on tietoja asunnon hinnasta, pinta-alasta, huoneluvusta ja muista keskeisistä ominaisuuksista.\n",
    "\n",
    "##### 4.2 Omaan rooliin liittyvä datan hyödyntäminen\n",
    "Roolini keskittyy asuntojen hintojen ennustemallin kehittämiseen. Malli rakennettiin hyödyntäen lineaarista regressiota, johon lisättiin vuorovaikutustekijöitä ja alueellisia dummy-muuttujia, jotka osoittautuivat tärkeiksi hinnan ennustamisessa.\n",
    "\n",
    "#### 5. Yrityksen dataan liittyvät mahdollisuudet ja riskit\n",
    "\n",
    "##### Mahdollisuudet\n",
    "Dataan perustuva hintojen ennustaminen tarjoaa merkittäviä mahdollisuuksia, kuten tarkemman hinnoittelun, asiakastyytyväisyyden parantamisen ja sijoittajien tukemisen markkinakehityksen ymmärtämisessä. Ennustemallien avulla yritys voi myös tarjota asiakaskohtaisia analyyseja ja suosituksia.\n",
    "\n",
    "##### Riskit\n",
    "Keskeisiä riskejä ovat datan laatu ja ajantasaisuus. Vanha tai epätarkka data voi johtaa virheellisiin ennusteisiin ja heikentää asiakkaiden päätöksentekoa. Myös tietoturva ja dataetiikka ovat riskejä, sillä asiakkaiden tietoja on käsiteltävä vastuullisesti ja lainmukaisesti.\n",
    "\n",
    "#### 6. Keskustelu ja johtopäätökset\n",
    "Työn tulokset osoittavat, että datan avulla tehty asuntojen hintojen ennustaminen on mahdollista ja hyödyllistä kiinteistöalalla. Mallin ennustetarkkuutta voitaisiin edelleen parantaa, jos käytettävissä olisi tarkempia ja laajempia datalähteitä, esimerkiksi markkinatilanteen ja taloudellisten tekijöiden huomioimiseksi. Tämä malli tukee kiinteistönvälittäjiä, sijoittajia ja asunnonostajia tarjoamalla näkökulman hintakehitykseen. Tulevaisuudessa mallin kehitystä voisi laajentaa käyttämällä koneoppimisen menetelmiä ja lisäämällä dataa markkinoiden dynamiikasta.\n",
    "\n",
    "#### 7. Lähteet\n",
    "1. **Kaggle Dataset**: House Price Prediction Dataset. *Kaggle*. Saatavilla: [https://www.kaggle.com/c/house-prices-advanced-regression-techniques/data](https://www.kaggle.com/c/house-prices-advanced-regression-techniques/data)\n",
    "2. **Scikit-learn Documentation**: *Scikit-learn: Machine Learning in Python*. Documentation for regression models. Saatavilla: [https://scikit-learn.org/stable/user_guide.html](https://scikit-learn.org/stable/user_guide.html)\n"
   ]
  }
 ],
 "metadata": {
  "kernelspec": {
   "display_name": "Python 3 (ipykernel)",
   "language": "python",
   "name": "python3"
  },
  "language_info": {
   "codemirror_mode": {
    "name": "ipython",
    "version": 3
   },
   "file_extension": ".py",
   "mimetype": "text/x-python",
   "name": "python",
   "nbconvert_exporter": "python",
   "pygments_lexer": "ipython3",
   "version": "3.12.5"
  }
 },
 "nbformat": 4,
 "nbformat_minor": 4
}
